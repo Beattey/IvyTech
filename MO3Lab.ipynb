{
 "cells": [
  {
   "cell_type": "code",
   "execution_count": 7,
   "id": "172ca88e-d9a4-41d5-b1ce-d7c6e480765f",
   "metadata": {},
   "outputs": [
    {
     "name": "stdin",
     "output_type": "stream",
     "text": [
      "What type of vehicle do you use for day to day transpertation Car\n",
      "What model year is it? 2018\n",
      "What make is it? Toyota\n",
      "What is the model? Camry\n",
      "Does it have four doors (Y/N)? y\n",
      "Does it have a sun roof (Y/N) ? n\n"
     ]
    },
    {
     "name": "stdout",
     "output_type": "stream",
     "text": [
      "\n",
      " Type: Car \n",
      " Year: 2018 \n",
      " Make: Toyota \n",
      " Model: Camry \n",
      " Doors: 4-door \n",
      " Roof: solid roof\n"
     ]
    }
   ],
   "source": [
    "########################################################################################################\n",
    "#####                   M03 Lab - Case Study: Lists, Functions, and Classes                         ####\n",
    "#####                               Submitted by Alan Beattey                                       ####\n",
    "########################################################################################################\n",
    "\n",
    "\n",
    "flag=1  # Set for number of desired iterations - no user escape has been provide\n",
    "\n",
    "while flag >= 1:\n",
    "    itype = input(\"What type of vehicle do you use for day to day transpertation\")\n",
    "    iyear = input(\"What model year is it?\")\n",
    "    imake = input(\"What make is it?\")\n",
    "    imodel = input(\"What is the model?\")\n",
    "    idoors = input(\"Does it have four doors (Y/N)?\")\n",
    "    iroof = input(\"Does it have a sun roof (Y/N) ?\")\n",
    "\n",
    "    # With the following exception there is no valication of the users input\n",
    "    # Anticipating that a user could have answered the Y/N questions with a loower or upper case character convert to upper\n",
    "    idoors= idoors.upper()\n",
    "    iroof= iroof.upper()\n",
    "    \n",
    "    # Convert the users Y/N answeres into the desired output\n",
    "    if idoors == \"Y\":\n",
    "        idoors = \"4-door\"\n",
    "    else:\n",
    "        idoors= \"2-door\"\n",
    "\n",
    "    if iroof == \"Y\":\n",
    "        iroof = \"sun roof\"\n",
    "    else:\n",
    "        iroof = \"solid roof\"\n",
    "\n",
    "    flag -= 1\n",
    "\n",
    "\n",
    "# Create a parent class to hold the various possible types of vehicles\n",
    "class Vehicle():\n",
    "    def __init__(self, type):\n",
    "        self.type = type\n",
    "\n",
    "# Create a subclass of Vehicle() to hold objects related to automobiles/cars\n",
    "class Automobile(Vehicle):\n",
    "    def __init__(self, type,year, make, model, doors, roof):\n",
    "        super().__init__(type) # Inherit \"type\" from the parent class\n",
    "        self.year = year\n",
    "        self.make = make\n",
    "        self.model = model\n",
    "        self.doors = doors\n",
    "        self.roof = roof\n",
    "    def get_name(self): # Define a method for the output of the objects in this class\n",
    "            print(\"\\n\",\"Type:\", self.type, \"\\n\",\"Year:\",self.year, \"\\n\", \"Make:\",self.make,\"\\n\",\"Model:\", self.model,\"\\n\", \"Doors:\", self.doors, \"\\n\", \"Roof:\", self.roof)\n",
    "            #print(alan.type)\n",
    "\n",
    "# Populate the Automobile class with the objects the user provide\n",
    "sam = Automobile(itype,iyear,imake,imodel,idoors,iroof)\n",
    "\n",
    "# Output the objects from Automobile()\n",
    "sam.get_name()\n",
    "\n",
    "            "
   ]
  },
  {
   "cell_type": "code",
   "execution_count": null,
   "id": "397d5fc0-562e-4833-8344-db51c61b1ee3",
   "metadata": {},
   "outputs": [],
   "source": []
  }
 ],
 "metadata": {
  "kernelspec": {
   "display_name": "Python 3 (ipykernel)",
   "language": "python",
   "name": "python3"
  },
  "language_info": {
   "codemirror_mode": {
    "name": "ipython",
    "version": 3
   },
   "file_extension": ".py",
   "mimetype": "text/x-python",
   "name": "python",
   "nbconvert_exporter": "python",
   "pygments_lexer": "ipython3",
   "version": "3.11.7"
  }
 },
 "nbformat": 4,
 "nbformat_minor": 5
}
