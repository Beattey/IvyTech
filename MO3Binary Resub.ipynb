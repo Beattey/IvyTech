{
 "cells": [
  {
   "cell_type": "code",
   "execution_count": 77,
   "id": "64af216d-10ac-4c68-b55a-5f69fbf086b3",
   "metadata": {},
   "outputs": [
    {
     "name": "stdout",
     "output_type": "stream",
     "text": [
      "4 has been found at position 3\n"
     ]
    }
   ],
   "source": [
    "class Solution:\n",
    "  def __init__(self, n, k, arr):\n",
    "    self.n = n\n",
    "    self.k = k\n",
    "    self.arr=arr  \n",
    "\n",
    "itt1 = Solution(5, 4, [1,2,3,4,5])\n",
    "itt2 = Solution(10, 8, [5,4,3,2,1])\n",
    "\n",
    "high = itt1.n-1\n",
    "low = 0\n",
    "\n",
    "itt1.k=int(itt1.k)\n",
    "\n",
    "mid = int((high+low)/2)\n",
    "\n",
    "while low <= high and high >= 0 :\n",
    "    if itt1.arr[mid] == itt1.k:    # K has been found and the loop can be ended\n",
    "        print(itt1.k, \"has been found at position\", mid)\n",
    "        break\n",
    "    elif itt1.k > itt1.arr[mid]:        # if k is n arr[] it is in the right half of the current low to high\n",
    "        low = mid +1\n",
    "        mid = int((low+high)/2)  \n",
    "    elif itt1.k < itt1.arr[mid]:        # if k is n arr[] it is in the left half of the current low to high\n",
    "            high = mid -1\n",
    "            mid =int((low+high)/2)\n",
    "        \n",
    "    if low > high or high < 0:  # k has not been found in the sorted list\n",
    "            print(itt1.k, \"was not found\")\n",
    "\n"
   ]
  },
  {
   "cell_type": "code",
   "execution_count": 39,
   "id": "deba35ed-d30e-491b-af67-2816b5058551",
   "metadata": {},
   "outputs": [
    {
     "ename": "IndentationError",
     "evalue": "expected an indented block after function definition on line 10 (2832544849.py, line 11)",
     "output_type": "error",
     "traceback": [
      "\u001b[1;36m  Cell \u001b[1;32mIn[39], line 11\u001b[1;36m\u001b[0m\n\u001b[1;33m    self.arr = arr\u001b[0m\n\u001b[1;37m    ^\u001b[0m\n\u001b[1;31mIndentationError\u001b[0m\u001b[1;31m:\u001b[0m expected an indented block after function definition on line 10\n"
     ]
    }
   ],
   "source": [
    "######################################################################################################\n",
    "####                       RESUBMISSION  --  RESUBMISSION  --  RESUBMISSION\n",
    "######################################################################################################\n",
    "####                            M03 Tutorial - Functional vs OOP - Sorting\n",
    "####                                   Submitted by Alan Beattey\n",
    "######################################################################################################\n",
    "\n",
    "class Solution:\n",
    "    \n",
    "    def __init__(arr,n):\n",
    "        self.arr = arr\n",
    "        self.n = n    \n",
    "        \n",
    "    def sort012(self,arr,n):\n",
    "        #self.arr = arr\n",
    "        #self.n = n\n",
    "        #print(n)\n",
    "\n",
    "# puts the three numbers in arder at the start of the list. As each number is found it will be put in front of its match here\n",
    "        #Solution.arr.insert(0,2)\n",
    "        #itt1.arr.insert(0,1)\n",
    "        #itt1.arr.insert(0,0)\n",
    "        #tt1.n = itt1.n+3\n",
    "        arr.insert(0,2)\n",
    "        arr.instert(0,1)\n",
    "        arr.insert(9.0)\n",
    "\n",
    "\n",
    "# creates the index for where when a duplicate 1 or 2 will be placed when found. A duplicate 0 will always be placed at incex 0 \n",
    "        nsrt1 = 1\n",
    "        nsrt2 = 2\n",
    "\n",
    "        flag = 3                    # start the sort with the first item in the original list\n",
    "\n",
    "        while flag <= n-1:\n",
    "            if a[flag] == 0:       \n",
    "                itt1.arr.insert(0,0)     # a 0 has been found and a duplicate will be placed at the 0 position of the list\n",
    "                del a[flag+1]       # as duplicate has been added in its sorted position this \"original\" is deleted\n",
    "                nsrt1 +=1           # position of the first 1 has been shifted one to the right so the insertion point for the next 1 found must be moved\n",
    "                nsrt2 +=1           # position of the first 2 has been shifted one to the right so the insertion point for the next 2 found must be moved\n",
    "            elif a[flag] == 1:\n",
    "                itt1.arr.insert(nsrt1,1) # a 1 has been found and a duplicate will be placed before the first 1 in the list\n",
    "                del a[flag+1]       # as duplicate has been added in its sorted position this \"original\" is deleted\n",
    "                nsrt2 +=1           # # position of the first 2 has been shifted one to the right so the insertion point for the nrxt 2 must be moved\n",
    "            elif a[flag] == 2:   \n",
    "                itt1.arr.insert(nsrt2,2) # a 2 has been found and a duplicate will be placed before the first 2 in the list\n",
    "                del a[flag+1]       # as duplicate has been added in its sorted position this \"original\" is deleted\n",
    "\n",
    "        flag +=1                #  control flag for stepping thru the list is incrmented\n",
    "    \n",
    "\n",
    "# The original 0,1,2 added at the front of the list list must now be deleted\n",
    "\n",
    "        del itt1.arr[nsrt2]   # delete the first 2 (perhaps the only) 2 to remove the one added\n",
    "        del itt1.arr[nsrt1]   # delete the first 1 (perhaps the only) 1 to remove the one added\n",
    "        del itt1.arr[0]       # delete the first 0 (perhaps the only) 0 to remove the one added \n",
    "\n",
    "        print(itt1.arr)\n",
    "\n"
   ]
  },
  {
   "cell_type": "code",
   "execution_count": 46,
   "id": "ccd33e29-0691-4a70-b533-20324b9e01f0",
   "metadata": {},
   "outputs": [
    {
     "name": "stdout",
     "output_type": "stream",
     "text": [
      "1\n",
      "3\n"
     ]
    }
   ],
   "source": [
    " class corner():  # Creating class corner and pass x,y as coordinate (updated as guide)\n",
    "\n",
    "    def __init__(self, x, y):\n",
    "        self.x = x\n",
    "        self.y = y\n",
    "\n",
    "\n",
    "#Creating objects from class (still doesn't work)\n",
    "cornerA=corner(1,2)\n",
    "print(cornerA.x) #Expected (1,2)\n",
    "cornerB=corner(3,4)\n",
    "print(cornerB.x) #Expected (3,4)"
   ]
  },
  {
   "cell_type": "code",
   "execution_count": 73,
   "id": "6a5346a8-8585-4d09-83e0-259df04fda81",
   "metadata": {},
   "outputs": [
    {
     "name": "stdout",
     "output_type": "stream",
     "text": [
      "4\n"
     ]
    }
   ],
   "source": [
    "class Solution:\n",
    "  def __init__(self, n, k, arr):\n",
    "    self.n = n\n",
    "    self.k = k\n",
    "    self.arr=arr  \n",
    "\n",
    "itt1 = Solution(5, 4, [0,2,1,2,0])\n",
    "itt2 = Solution(10, 8, [5,4,3,2,1])\n",
    "\n",
    "print(itt1.k)"
   ]
  },
  {
   "cell_type": "code",
   "execution_count": 92,
   "id": "8f5b7c63-9a15-4438-a81c-11d1774e06b4",
   "metadata": {},
   "outputs": [
    {
     "name": "stdout",
     "output_type": "stream",
     "text": [
      "[0, 2, 1, 2, 0]\n",
      "6\n"
     ]
    }
   ],
   "source": [
    "class Solution:\n",
    "  def __init__(self, n, k, arr):\n",
    "    self.n = n\n",
    "    self.k = k\n",
    "    self.arr=arr  \n",
    "  def sort012(arr,n):\n",
    "     print(arr+n) \n",
    "\n",
    "\n",
    "\n",
    "\n",
    "itt1 = Solution(5, 4, [0,2,1,2,0])\n",
    "itt2 = Solution(10, 1, [5,4,3,2,1])\n",
    "\n",
    "#print(itt1.n + itt2.k)\n",
    "print(itt1.arr)\n",
    "\n",
    "sort012(itt1.n,itt2.k)"
   ]
  },
  {
   "cell_type": "code",
   "execution_count": null,
   "id": "8252040e-1c36-431d-95d9-7ddaaec67e2c",
   "metadata": {},
   "outputs": [],
   "source": []
  }
 ],
 "metadata": {
  "kernelspec": {
   "display_name": "Python 3 (ipykernel)",
   "language": "python",
   "name": "python3"
  },
  "language_info": {
   "codemirror_mode": {
    "name": "ipython",
    "version": 3
   },
   "file_extension": ".py",
   "mimetype": "text/x-python",
   "name": "python",
   "nbconvert_exporter": "python",
   "pygments_lexer": "ipython3",
   "version": "3.11.7"
  }
 },
 "nbformat": 4,
 "nbformat_minor": 5
}
