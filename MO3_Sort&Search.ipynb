{
 "cells": [
  {
   "cell_type": "code",
   "execution_count": 50,
   "id": "27379af5-8f03-4a73-aca5-ba00bd1deb82",
   "metadata": {},
   "outputs": [
    {
     "name": "stdin",
     "output_type": "stream",
     "text": [
      "What number do you sish to search for? 5\n"
     ]
    },
    {
     "name": "stdout",
     "output_type": "stream",
     "text": [
      "5 has been found at position 3\n"
     ]
    }
   ],
   "source": [
    "###################################################################################################\n",
    "####                 M03 Tutorial - Functional vs OOP - Binary Search                          ####\n",
    "####                       Submitted by Alan Beattey                                           ####\n",
    "###################################################################################################\n",
    "\n",
    "\n",
    "arr=[2,3,4,5,6,7,8,9,10]  # the sorted list\n",
    "     \n",
    "high = len(arr)-1\n",
    "low = 0\n",
    "k=input(\"What number do you sish to search for?\")\n",
    "k=int(k)\n",
    "mid = int((high+low)/2)\n",
    "\n",
    "while low <= high and high >= 0 :\n",
    "        if arr[mid] == k:    # K has been found and the loop can be ended\n",
    "            print(k, \"has been found at position\", mid)\n",
    "            break\n",
    "        elif k > arr[mid]:        # if k is n arr[] it is in the right half of the current low to high\n",
    "            low = mid +1\n",
    "            mid = int((low+high)/2)  \n",
    "        elif k < arr[mid]:        # if k is n arr[] it is in the left half of the current low to high\n",
    "            high = mid -1\n",
    "            mid =int((low+high)/2)\n",
    "        \n",
    "        if low > high or high < 0:  # k has not been found in the sorted list\n",
    "           print(k, \"was not found\")\n",
    " "
   ]
  },
  {
   "cell_type": "code",
   "execution_count": null,
   "id": "fea43e5b-a726-4dc6-a1fc-ad5f442af46d",
   "metadata": {},
   "outputs": [],
   "source": [
    "##########################################################################################################\n",
    "####                 M03 Tutorial - Functional vs OOP - Sort  0s. 1s. and 2s                          ####\n",
    "####                                 Submitted by Alan Beattey                                        ####\n",
    "##########################################################################################################\n",
    "\n",
    "\n",
    "a=[2,1,0]\n",
    "\n",
    "# puts the three numbers in arder at the start of the list. As each number is found it will be put in front of its match here\n",
    "a.insert(0,2)\n",
    "a.insert(0,1)\n",
    "a.insert(0,0)\n",
    "\n",
    "\n",
    "# creates the index for where when a duplicate 1 or 2 will be placed when found. A duplicate 0 will always be placed at incex 0 \n",
    "nsrt1 = 1\n",
    "nsrt2 = 2\n",
    "\n",
    "flag = 3                    # start the sort with the first item in the original list\n",
    "\n",
    "while flag <= len(a)-1:\n",
    "    if a[flag] == 0:       \n",
    "        a.insert(0,0)       # a 0 has been found and a duplicate will be placed at the 0 position of the list\n",
    "        del a[flag+1]       # as duplicate has been added in its sorted position this \"original\" is deleted\n",
    "        nsrt1 +=1           # position of the first 1 has been shifted one to the right so the insertion point for the next 1 found must be moved\n",
    "        nsrt2 +=1           # position of the first 2 has been shifted one to the right so the insertion point for the next 2 found must be moved\n",
    "    elif a[flag] == 1:\n",
    "        a.insert(nsrt1,1)   # a 1 has been found and a duplicate will be placed before the first 1 in the list\n",
    "        del a[flag+1]       # as duplicate has been added in its sorted position this \"original\" is deleted\n",
    "        nsrt2 +=1           # # position of the first 2 has been shifted one to the right so the insertion point for the nrxt 2 must be moved\n",
    "    elif a[flag] == 2:   \n",
    "        a.insert(nsrt2,2)   # a 2 has been found and a duplicate will be placed before the first 2 in the list\n",
    "        del a[flag+1]       # as duplicate has been added in its sorted position this \"original\" is deleted\n",
    "\n",
    "    flag +=1                #  control flag for stepping thru the list is incrmented\n",
    "    \n",
    "\n",
    "# The original 0,1,2 added at the front of the list list must now be deleted\n",
    "\n",
    "del a[nsrt2]   # delete the first 2 (perhaps the only) 2 to remove the one added\n",
    "del a[nsrt1]   # delete the first 1 (perhaps the only) 1 to remove the one added\n",
    "del a[0]       # delete the first 0 (perhaps the only) 0 to remove the one added \n"
   ]
  }
 ],
 "metadata": {
  "kernelspec": {
   "display_name": "Python 3 (ipykernel)",
   "language": "python",
   "name": "python3"
  },
  "language_info": {
   "codemirror_mode": {
    "name": "ipython",
    "version": 3
   },
   "file_extension": ".py",
   "mimetype": "text/x-python",
   "name": "python",
   "nbconvert_exporter": "python",
   "pygments_lexer": "ipython3",
   "version": "3.11.7"
  }
 },
 "nbformat": 4,
 "nbformat_minor": 5
}
