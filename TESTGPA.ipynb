{
 "cells": [
  {
   "cell_type": "code",
   "execution_count": null,
   "id": "7c4fc831-0970-41d5-8c0c-8c867a947356",
   "metadata": {},
   "outputs": [
    {
     "name": "stdout",
     "output_type": "stream",
     "text": [
      "To exit this program enter a last name of zzz\n",
      "\n"
     ]
    },
    {
     "name": "stdin",
     "output_type": "stream",
     "text": [
      "Please enter your last name.  JONES\n",
      "Now enter your first name sam\n",
      "... and finally enter your GPA 3.5\n"
     ]
    },
    {
     "name": "stdout",
     "output_type": "stream",
     "text": [
      "Congratulations Sam Jones your name will appear on the Dean's List\n",
      "To exit this program enter a last name of zzz\n",
      "\n"
     ]
    },
    {
     "name": "stdin",
     "output_type": "stream",
     "text": [
      "Please enter your last name.  Jones\n",
      "Now enter your first name carol\n",
      "... and finally enter your GPA 3.75\n"
     ]
    },
    {
     "name": "stdout",
     "output_type": "stream",
     "text": [
      "Congratulations Carol Jones your name will appear on the Dean's List\n",
      "To exit this program enter a last name of zzz\n",
      "\n"
     ]
    },
    {
     "name": "stdin",
     "output_type": "stream",
     "text": [
      "Please enter your last name.  Brown\n",
      "Now enter your first name Bill\n",
      "... and finally enter your GPA 3.25\n"
     ]
    },
    {
     "name": "stdout",
     "output_type": "stream",
     "text": [
      "Congratulations Bill Brown your nmae will appear on the Honor Roll\n",
      "To exit this program enter a last name of zzz\n",
      "\n"
     ]
    },
    {
     "name": "stdin",
     "output_type": "stream",
     "text": [
      "Please enter your last name.  Johnson\n",
      "Now enter your first name Heather\n",
      "... and finally enter your GPA 3.49999\n"
     ]
    },
    {
     "name": "stdout",
     "output_type": "stream",
     "text": [
      "Congratulations Heather Johnson your nmae will appear on the Honor Roll\n",
      "To exit this program enter a last name of zzz\n",
      "\n"
     ]
    },
    {
     "name": "stdin",
     "output_type": "stream",
     "text": [
      "Please enter your last name.  Williams\n",
      "Now enter your first name Sandra\n",
      "... and finally enter your GPA 3.2499999\n"
     ]
    },
    {
     "name": "stdout",
     "output_type": "stream",
     "text": [
      "Sandra Williams ,unfortunately you have not made the Dean\\’s List or the Honor Roll. \n",
      "To exit this program enter a last name of zzz\n",
      "\n"
     ]
    }
   ],
   "source": [
    "#### 220 Created by Alan Beattey to fulfill the assignment  -  M02 Lab - Case Study: if...else and while\n",
    "########################################################################################################\n",
    "################################        TESTGPA.IPYNBy        ##########################################\n",
    "########################################################################################################\n",
    "##### This small app was created as a class exercise in using Python LOOPS and IF statements. It    ####\n",
    "##### request the user enter a first name, last name and their GPA. For those entering a GPA of     ####\n",
    "##### 3.5 or higher they are notified that they will be on the Dean’s list. For those WHOSE GPA is  ####\n",
    "##### 3.25,or higher, but less than 3.5 they are informed they have qualified for the Honor Role.   ####\n",
    "##### All others are informed that they have made neither.                                          ####\n",
    "#####                                                                                               ####    \n",
    "##### A user can exit the app by entering a last name of zzz in any combination of upper and        ####\n",
    "##### lower case letters.                            Alan Beattey 6/12/2024                         ####\n",
    "########################################################################################################\n",
    "\n",
    "\n",
    "last = (\"\")\n",
    "\n",
    "while last.upper() != \"ZZZ\":\n",
    "    print(\"To exit this program enter a last name of zzz\")\n",
    "    print()\n",
    "    last= input(\"Please enter your last name. \")\n",
    "    if last.upper() == \"ZZZ\":\n",
    "        break\n",
    "    first = input (\"Now enter your first name\")\n",
    "    gpa = input(\"... and finally enter your GPA\")\n",
    "    if float(gpa) >= 3.5:\n",
    "        print(\"Congratulations\", first.capitalize(), last.capitalize(), \"your name will appear on the Dean\\'s List\")\n",
    "    elif float(gpa) >= 3.25:\n",
    "        print(\"Congratulations\", first.capitalize(), last.capitalize(), \"your nmae will appear on the Honor Roll\")\n",
    "    else:  \n",
    "            print(first.capitalize(), last.capitalize(), ',' \"unfortunately you have not made the Dean\\’s List or the Honor Roll. \")\n"
   ]
  },
  {
   "cell_type": "code",
   "execution_count": null,
   "id": "9bf1e97b-1b15-4751-8c96-65b4a473ba93",
   "metadata": {},
   "outputs": [],
   "source": []
  }
 ],
 "metadata": {
  "kernelspec": {
   "display_name": "Python 3 (ipykernel)",
   "language": "python",
   "name": "python3"
  },
  "language_info": {
   "codemirror_mode": {
    "name": "ipython",
    "version": 3
   },
   "file_extension": ".py",
   "mimetype": "text/x-python",
   "name": "python",
   "nbconvert_exporter": "python",
   "pygments_lexer": "ipython3",
   "version": "3.11.7"
  }
 },
 "nbformat": 4,
 "nbformat_minor": 5
}
