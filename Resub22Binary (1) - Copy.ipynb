{
 "cells": [
  {
   "cell_type": "code",
   "execution_count": 77,
   "id": "64af216d-10ac-4c68-b55a-5f69fbf086b3",
   "metadata": {},
   "outputs": [
    {
     "name": "stdout",
     "output_type": "stream",
     "text": [
      "4 has been found at position 3\n"
     ]
    }
   ],
   "source": [
    "######################################################################################################\n",
    "####                       RESUBMISSION  --  RESUBMISSION  --  RESUBMISSION\n",
    "######################################################################################################\n",
    "####                            M03 Tutorial - Functional vs OOP - Sorting\n",
    "####                                   Submitted by Alan Beattey\n",
    "######################################################################################################\n",
    "\n",
    "class Solution:\n",
    "  def __init__(self, n, k, arr):\n",
    "    self.n = n\n",
    "    self.k = k\n",
    "    self.arr=arr  \n",
    "\n",
    "itt1 = Solution(5, 4, [1,2,3,4,5])\n",
    "itt2 = Solution(10, 8, [5,4,3,2,1])\n",
    "\n",
    "high = itt1.n-1\n",
    "low = 0\n",
    "\n",
    "itt1.k=int(itt1.k)\n",
    "\n",
    "mid = int((high+low)/2)\n",
    "\n",
    "while low <= high and high >= 0 :\n",
    "    if itt1.arr[mid] == itt1.k:    # K has been found and the loop can be ended\n",
    "        print(itt1.k, \"has been found at position\", mid)\n",
    "        break\n",
    "    elif itt1.k > itt1.arr[mid]:        # if k is n arr[] it is in the right half of the current low to high\n",
    "        low = mid +1\n",
    "        mid = int((low+high)/2)  \n",
    "    elif itt1.k < itt1.arr[mid]:        # if k is n arr[] it is in the left half of the current low to high\n",
    "            high = mid -1\n",
    "            mid =int((low+high)/2)\n",
    "        \n",
    "    if low > high or high < 0:  # k has not been found in the sorted list\n",
    "            print(itt1.k, \"was not found\")\n",
    "\n"
   ]
  }
 ],
 "metadata": {
  "kernelspec": {
   "display_name": "Python 3 (ipykernel)",
   "language": "python",
   "name": "python3"
  },
  "language_info": {
   "codemirror_mode": {
    "name": "ipython",
    "version": 3
   },
   "file_extension": ".py",
   "mimetype": "text/x-python",
   "name": "python",
   "nbconvert_exporter": "python",
   "pygments_lexer": "ipython3",
   "version": "3.11.7"
  }
 },
 "nbformat": 4,
 "nbformat_minor": 5
}
