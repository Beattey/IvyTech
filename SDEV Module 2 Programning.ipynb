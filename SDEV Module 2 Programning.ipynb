{
 "cells": [
  {
   "cell_type": "code",
   "execution_count": 1,
   "id": "6a6eae0e-9561-4a79-8ef7-302418ed0479",
   "metadata": {},
   "outputs": [
    {
     "name": "stdout",
     "output_type": "stream",
     "text": [
      "hello\n"
     ]
    }
   ],
   "source": [
    "print(\"hello\")"
   ]
  },
  {
   "cell_type": "code",
   "execution_count": 3,
   "id": "c88125de-fb69-44cf-90d0-b408411fc1f2",
   "metadata": {},
   "outputs": [
    {
     "name": "stdout",
     "output_type": "stream",
     "text": [
      "just right\n"
     ]
    }
   ],
   "source": [
    "#### SDEV 220 Module 2 Reading Things to do 4.1\n",
    "secret= 3\n",
    "guess = 3\n",
    "\n",
    "if guess > secret:\n",
    "    print(\"too high\")\n",
    "elif guess < secret:\n",
    "    print (\"too low\")\n",
    "else:\n",
    "    print (\"just right\")\n"
   ]
  },
  {
   "cell_type": "code",
   "execution_count": 4,
   "id": "d9227fa6-dbab-47ee-aa22-67d6d3e3a7f5",
   "metadata": {},
   "outputs": [
    {
     "name": "stdout",
     "output_type": "stream",
     "text": [
      "Sequnece printed from a Python 'list'\n",
      "3\n",
      "2\n",
      "1\n",
      "0\n",
      "Sequnece printed from a Python 'range'\n",
      "3\n",
      "2\n",
      "1\n",
      "0\n"
     ]
    }
   ],
   "source": [
    "#### SDEV 220 Module 2 Reading Things to do 6.1\n",
    "lista = [3,2,1,0]\n",
    "print(\"Sequnece printed from a Python 'list'\")\n",
    "for index, val in enumerate(lista):\n",
    "    print(val)\n",
    "    \n",
    "#### From the reading assignment, I am not sure if 6.1 \"things to do\" wanted  the sequence run from a \"list\" as above or a \"range\" as below\n",
    "\n",
    "print(\"Sequnece printed from a Python 'range'\")\n",
    "for x in range(3,-1,-1):\n",
    "    print(x)"
   ]
  },
  {
   "cell_type": "code",
   "execution_count": 14,
   "id": "ebb0ef30-ca51-4a99-ac1e-a9bd4d382029",
   "metadata": {},
   "outputs": [
    {
     "name": "stdout",
     "output_type": "stream",
     "text": [
      "too low\n",
      "too low\n",
      "too low\n",
      "too low\n",
      "too low\n",
      "too low\n",
      "found it\n"
     ]
    }
   ],
   "source": [
    "#### SDEV 220 Module 2 Reading Things to do 6.2\n",
    "guess_me = 7\n",
    "number = 1\n",
    "\n",
    "while number < 10:\n",
    "    if number< guess_me:\n",
    "        print(\"too low\")\n",
    "    elif number == guess_me:\n",
    "        print(\"found it\")\n",
    "        break    \n",
    "    else:\n",
    "        print(\"oops\")\n",
    "        break\n",
    "    number = number+1   \n"
   ]
  },
  {
   "cell_type": "code",
   "execution_count": 17,
   "id": "f73a80e3-52e4-46de-a261-168f35250d69",
   "metadata": {},
   "outputs": [
    {
     "name": "stdout",
     "output_type": "stream",
     "text": [
      "too low\n",
      "too low\n",
      "too low\n",
      "too low\n",
      "too low\n",
      "foundit\n"
     ]
    }
   ],
   "source": [
    "#### SDEV 220 Module 2 Reading Things to do 6.3\n",
    "guess_me = 5\n",
    "\n",
    "for number in range(10):\n",
    "    if number < guess_me:\n",
    "        print(\"too low\")\n",
    "    elif number == guess_me:\n",
    "        print(\"foundit\")\n",
    "        break\n",
    "    else:\n",
    "        print(\"oops\")\n",
    "        Break"
   ]
  },
  {
   "cell_type": "code",
   "execution_count": null,
   "id": "52349f0a-516e-4061-ab5e-10e5448b7c35",
   "metadata": {},
   "outputs": [],
   "source": []
  }
 ],
 "metadata": {
  "kernelspec": {
   "display_name": "Python 3 (ipykernel)",
   "language": "python",
   "name": "python3"
  },
  "language_info": {
   "codemirror_mode": {
    "name": "ipython",
    "version": 3
   },
   "file_extension": ".py",
   "mimetype": "text/x-python",
   "name": "python",
   "nbconvert_exporter": "python",
   "pygments_lexer": "ipython3",
   "version": "3.11.7"
  }
 },
 "nbformat": 4,
 "nbformat_minor": 5
}
